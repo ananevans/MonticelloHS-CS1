{
 "cells": [
  {
   "cell_type": "markdown",
   "id": "a4dee6b8",
   "metadata": {},
   "source": [
    "# If Statement in Python"
   ]
  },
  {
   "cell_type": "markdown",
   "id": "acaa3b42",
   "metadata": {},
   "source": [
    "Given the statement: If the weather is sunny then I will bring a sun hat, otherwise I will bring an umbrella.\n",
    "\n",
    "Answer the following questions:\n",
    "\n",
    "1. What will I bring if the weather is sunny?\n",
    "\n",
    "2. What will I bring if it rains?\n",
    "\n",
    "3. What will I bring if it snows?\n",
    "\n",
    "4. What will I bring if the weather is overcast?"
   ]
  },
  {
   "cell_type": "markdown",
   "id": "0cffdf84",
   "metadata": {},
   "source": [
    "In Python, we encode this English statement as shown below."
   ]
  },
  {
   "cell_type": "code",
   "execution_count": null,
   "id": "aa70db1d",
   "metadata": {},
   "outputs": [],
   "source": [
    "isSunny = False\n",
    "\n",
    "if (isSunny):\n",
    "    print(\"Bring sun hat!\")\n",
    "else:\n",
    "    print(\"Bring umbrella!\")\n"
   ]
  },
  {
   "cell_type": "markdown",
   "id": "a6db9e06",
   "metadata": {},
   "source": [
    "The <code>if</code> statement has the following synthax:"
   ]
  },
  {
   "cell_type": "code",
   "execution_count": null,
   "id": "ccc1e381",
   "metadata": {},
   "outputs": [],
   "source": [
    "if (condition):\n",
    "    # the then branch\n",
    "    # code executed if condition evaluates to True\n",
    "else:\n",
    "    # the else branch\n",
    "    # code executed if condition evaluates to False"
   ]
  },
  {
   "cell_type": "markdown",
   "id": "91dac8d8",
   "metadata": {},
   "source": [
    "## Conditions\n",
    "\n",
    "Mathematical conditions\n",
    "1. Equals: <code>a == b</code>\n",
    "1. Not Equals: <code>a != b</code>\n",
    "1. Less than: <code>a < b</code>\n",
    "1. Less than or equal to: <code>a <= b</code>\n",
    "1. Greater than: <code>a > b</code>\n",
    "1. Greater than or equal to: <code>a >= b</code>\n",
    "\n",
    "    The symbols <code>==,!=, <, <=, >, >=</code> are called *relational operators*.\n",
    "   "
   ]
  },
  {
   "cell_type": "code",
   "execution_count": null,
   "id": "0a98adf4",
   "metadata": {},
   "outputs": [],
   "source": [
    "# The following code prints the given values in increasing order\n",
    "\n",
    "a = 5\n",
    "b = 7\n",
    "if (a<b):\n",
    "    print(a,b)\n",
    "else:\n",
    "    print(b,a)"
   ]
  },
  {
   "cell_type": "code",
   "execution_count": null,
   "id": "5778afd9",
   "metadata": {},
   "outputs": [],
   "source": [
    "# Write code that prints two numbers in decreasing order\n",
    "# Insert your code here"
   ]
  },
  {
   "cell_type": "markdown",
   "id": "070cd74b",
   "metadata": {},
   "source": [
    "## Nested if statements\n",
    "\n",
    "The code in the then or else branches may contain <code>if</code>."
   ]
  },
  {
   "cell_type": "code",
   "execution_count": null,
   "id": "7de47ecd",
   "metadata": {},
   "outputs": [],
   "source": [
    "def compare(a,b):\n",
    "    if (a<=b):\n",
    "        print(a, \"is less than\", b)\n",
    "    else:\n",
    "        if (a==b):\n",
    "            print(a, \"is equal to\", b)\n",
    "        else:\n",
    "            print(a, \"is greater than\", b)"
   ]
  },
  {
   "cell_type": "markdown",
   "id": "30a9e94a",
   "metadata": {},
   "source": [
    "Predict what is printed by the following calls:\n",
    "1. <code>compare(1,3)</code>\n",
    "1. <code>compare(1,1)</code>\n",
    "1. <code>compare(3,1)</code>"
   ]
  },
  {
   "cell_type": "code",
   "execution_count": null,
   "id": "959990f1",
   "metadata": {},
   "outputs": [],
   "source": [
    "compare(1,3)"
   ]
  },
  {
   "cell_type": "code",
   "execution_count": null,
   "id": "9de373b8",
   "metadata": {},
   "outputs": [],
   "source": [
    "compare(1,1)"
   ]
  },
  {
   "cell_type": "code",
   "execution_count": null,
   "id": "659e2db5",
   "metadata": {},
   "outputs": [],
   "source": [
    "compare(3,1)"
   ]
  },
  {
   "cell_type": "markdown",
   "id": "31cd5268",
   "metadata": {},
   "source": [
    "One of the calls printed an incorrect output. Which call did?"
   ]
  },
  {
   "cell_type": "code",
   "execution_count": null,
   "id": "f7779ee5",
   "metadata": {},
   "outputs": [],
   "source": [
    "# TODO: fix the code below so that all outputs are correct\n",
    "def compare(a,b):\n",
    "    if (a<=b):\n",
    "        print(a, \"is less than\", b)\n",
    "    else:\n",
    "        if (a==b):\n",
    "            print(a, \"is equal to\", b)\n",
    "        else:\n",
    "            print(a, \"is greater than\", b)\n",
    "compare(1,3)\n",
    "compare(1,1)\n",
    "compare(3,1)"
   ]
  },
  {
   "cell_type": "markdown",
   "id": "d6a6e8ee",
   "metadata": {},
   "source": [
    "How would you change the code to bring the umbrella only if it is not sunny and it rains?"
   ]
  },
  {
   "cell_type": "code",
   "execution_count": null,
   "id": "3acf70f1",
   "metadata": {},
   "outputs": [],
   "source": [
    "# TODO change code\n",
    "isSunny = False\n",
    "isRainy = True\n",
    "\n",
    "if (isSunny):\n",
    "    print(\"Bring sun hat!\")\n",
    "else:\n",
    "    print(\"Bring umbrella!\")"
   ]
  },
  {
   "cell_type": "markdown",
   "id": "bf5047f2",
   "metadata": {},
   "source": [
    "What if we want to bring both the sun hat and the umbrella if is both sunny and rainy, only the sun hat if it is sunny, but not rainy and only the umbrella if its rainy but not sunny?"
   ]
  },
  {
   "cell_type": "code",
   "execution_count": null,
   "id": "bc2ca11e",
   "metadata": {},
   "outputs": [],
   "source": [
    "# TODO change code\n",
    "isSunny = True\n",
    "isRainy = True\n"
   ]
  },
  {
   "cell_type": "markdown",
   "id": "f0380d00",
   "metadata": {},
   "source": [
    "## Logical operators\n",
    "\n",
    "We can code complex conditions such as is rainy and is sunny using logical operators.\n",
    "\n",
    "Each operand must evaluate to <code>True</code> or <code>False</code>.\n",
    "\n",
    "The three logical operators are <code>and</code>, <code>or</code> and <code>not</code>. \n",
    "\n",
    "\n",
    "| p     \t| q     \t| p <code>and</code> q \t| p <code>or</code> q \t|\n",
    "|-------\t|-------\t|---------\t|--------\t|\n",
    "| True  \t| True  \t| True    \t| True   \t|\n",
    "| True  \t| False \t| False   \t| True   \t|\n",
    "| False \t| True  \t| False   \t| True   \t|\n",
    "| False \t| False \t| False   \t| False  \t|\n",
    "\n",
    "| p     | <code>not</code> p |\n",
    "|-------|-------|\n",
    "| True  | False |\n",
    "| False | True  |\n",
    "\n"
   ]
  },
  {
   "attachments": {
    "image.png": {
     "image/png": "[encoded data removed]"
    }
   },
   "cell_type": "markdown",
   "id": "752f32b3",
   "metadata": {},
   "source": [
    "What condition is true for points in the red region?\n",
    "\n",
    "![image.png](attachment:image.png)"
   ]
  },
  {
   "cell_type": "code",
   "execution_count": null,
   "id": "7a790444",
   "metadata": {},
   "outputs": [],
   "source": [
    "# complete the code below\n",
    "def isRed(x,y):\n",
    "    if (True):\n",
    "        print(x,y, \"is in red\")\n",
    "    else:\n",
    "        print(x,y, \"is not in red\")\n",
    "isRed(1,3)\n",
    "isRed(9,8)\n",
    "isRed(-1,0)\n",
    "isRed(10,9)\n",
    "isRed(0,-1)\n",
    "isRed(0,5)\n",
    "isRed(3,3)\n",
    "isRed(8,7)"
   ]
  },
  {
   "cell_type": "code",
   "execution_count": null,
   "id": "4df5e800",
   "metadata": {},
   "outputs": [],
   "source": []
  }
 ],
 "metadata": {
  "kernelspec": {
   "display_name": "Python 3 (ipykernel)",
   "language": "python",
   "name": "python3"
  },
  "language_info": {
   "codemirror_mode": {
    "name": "ipython",
    "version": 3
   },
   "file_extension": ".py",
   "mimetype": "text/x-python",
   "name": "python",
   "nbconvert_exporter": "python",
   "pygments_lexer": "ipython3",
   "version": "3.8.10"
  }
 },
 "nbformat": 4,
 "nbformat_minor": 5
}
